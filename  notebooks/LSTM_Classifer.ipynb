{
 "cells": [
  {
   "cell_type": "markdown",
   "metadata": {},
   "source": [
    "### Notes:\n",
    "**this notebook is the same process with training.py on root folder. On that training.py is a modular version of this project, beside this is the experiment version.**"
   ]
  },
  {
   "cell_type": "code",
   "execution_count": 1,
   "metadata": {},
   "outputs": [],
   "source": [
    "import pandas as pd\n",
    "import numpy as np\n",
    "import re\n",
    "from tqdm import tqdm\n",
    "from imblearn.over_sampling import RandomOverSampler\n",
    "from nlp_id import StopWord, Lemmatizer\n",
    "from gensim.utils import tokenize\n",
    "import torch\n",
    "import torch.nn.functional as F\n",
    "from torch import nn\n",
    "from torch.utils.data import Dataset, DataLoader, RandomSampler\n",
    "from sklearn.model_selection import train_test_split\n",
    "import matplotlib.pyplot as plt\n",
    "import matplotlib.style as style\n",
    "from gensim.models import Word2Vec\n",
    "from jcopdl.callback import Callback"
   ]
  },
  {
   "cell_type": "markdown",
   "metadata": {},
   "source": [
    "# Import Data"
   ]
  },
  {
   "cell_type": "code",
   "execution_count": 2,
   "metadata": {},
   "outputs": [],
   "source": [
    "# Import Dataset\n",
    "df = pd.read_csv(\"../data/abstract_dataset.csv\")"
   ]
  },
  {
   "cell_type": "code",
   "execution_count": 3,
   "metadata": {},
   "outputs": [
    {
     "data": {
      "text/html": [
       "<div>\n",
       "<style scoped>\n",
       "    .dataframe tbody tr th:only-of-type {\n",
       "        vertical-align: middle;\n",
       "    }\n",
       "\n",
       "    .dataframe tbody tr th {\n",
       "        vertical-align: top;\n",
       "    }\n",
       "\n",
       "    .dataframe thead th {\n",
       "        text-align: right;\n",
       "    }\n",
       "</style>\n",
       "<table border=\"1\" class=\"dataframe\">\n",
       "  <thead>\n",
       "    <tr style=\"text-align: right;\">\n",
       "      <th></th>\n",
       "      <th>abstract</th>\n",
       "      <th>study_program</th>\n",
       "    </tr>\n",
       "  </thead>\n",
       "  <tbody>\n",
       "    <tr>\n",
       "      <th>0</th>\n",
       "      <td>Tujuan penelitian ini adalah untuk mengetahui ...</td>\n",
       "      <td>Manajemen</td>\n",
       "    </tr>\n",
       "    <tr>\n",
       "      <th>1</th>\n",
       "      <td>Skripsi ini disusun oleh Andri Tanjung, NRP 02...</td>\n",
       "      <td>Manajemen</td>\n",
       "    </tr>\n",
       "    <tr>\n",
       "      <th>2</th>\n",
       "      <td>Setiap organisasi didirikan untuk mencapai tuj...</td>\n",
       "      <td>Akuntansi</td>\n",
       "    </tr>\n",
       "    <tr>\n",
       "      <th>3</th>\n",
       "      <td>Penelitian ini bertujuan untuk mengetahui peng...</td>\n",
       "      <td>Manajemen</td>\n",
       "    </tr>\n",
       "    <tr>\n",
       "      <th>4</th>\n",
       "      <td>Penelitian ini bertujuan untuk mengetahui peng...</td>\n",
       "      <td>Akuntansi</td>\n",
       "    </tr>\n",
       "  </tbody>\n",
       "</table>\n",
       "</div>"
      ],
      "text/plain": [
       "                                            abstract study_program\n",
       "0  Tujuan penelitian ini adalah untuk mengetahui ...     Manajemen\n",
       "1  Skripsi ini disusun oleh Andri Tanjung, NRP 02...     Manajemen\n",
       "2  Setiap organisasi didirikan untuk mencapai tuj...     Akuntansi\n",
       "3  Penelitian ini bertujuan untuk mengetahui peng...     Manajemen\n",
       "4  Penelitian ini bertujuan untuk mengetahui peng...     Akuntansi"
      ]
     },
     "execution_count": 3,
     "metadata": {},
     "output_type": "execute_result"
    }
   ],
   "source": [
    "df.head()"
   ]
  },
  {
   "cell_type": "code",
   "execution_count": 4,
   "metadata": {},
   "outputs": [
    {
     "data": {
      "image/png": "[encoded data removed]",
      "text/plain": [
       "<Figure size 1000x500 with 1 Axes>"
      ]
     },
     "metadata": {},
     "output_type": "display_data"
    }
   ],
   "source": [
    "style.use(style.available[9])\n",
    "plt.figure(figsize=(10, 5))\n",
    "plt.bar(list(df.study_program.value_counts().keys()), df.study_program.value_counts().values)\n",
    "plt.title(\"Dataset\")\n",
    "plt.xlabel(\"Study Program\")\n",
    "plt.ylabel(\"Abstracts\")\n",
    "plt.show()"
   ]
  },
  {
   "cell_type": "markdown",
   "metadata": {},
   "source": [
    "# Preprocessing"
   ]
  },
  {
   "cell_type": "markdown",
   "metadata": {},
   "source": [
    "### Encode Labels"
   ]
  },
  {
   "cell_type": "code",
   "execution_count": 5,
   "metadata": {},
   "outputs": [],
   "source": [
    "studyprogram_encoder = {\n",
    "            \"Akuntansi\": 0, \n",
    "            \"Manajemen\": 1,\n",
    "            \"Teknik Informatika\": 2,\n",
    "            \"Bahasa Inggris\": 3,\n",
    "            \"Desain dan Komunikasi Visual\": 4\n",
    "        }\n",
    "\n",
    "for label in df['study_program']:\n",
    "    label = studyprogram_encoder[label]\n",
    "\n",
    "for i in range(len(df)):\n",
    "    df.at[i, 'study_program'] = studyprogram_encoder[df.at[i, 'study_program']]"
   ]
  },
  {
   "cell_type": "code",
   "execution_count": 6,
   "metadata": {},
   "outputs": [
    {
     "name": "stdout",
     "output_type": "stream",
     "text": [
      "Encode Result Sample: [1 1 0 1 0 1 0 0 0 1]\n"
     ]
    }
   ],
   "source": [
    "print(f\"Encode Result Sample: {df.study_program.values[:10]}\")"
   ]
  },
  {
   "cell_type": "markdown",
   "metadata": {},
   "source": [
    "### split dataset"
   ]
  },
  {
   "cell_type": "code",
   "execution_count": 7,
   "metadata": {},
   "outputs": [
    {
     "data": {
      "text/plain": [
       "((7667,), (2556,), (7667,), (2556,))"
      ]
     },
     "execution_count": 7,
     "metadata": {},
     "output_type": "execute_result"
    }
   ],
   "source": [
    "    # X = df['abstract']  |  y = df['study_program']\n",
    "X_train, X_test, y_train, y_test = train_test_split(df['abstract'].values, df['study_program'].values, test_size=0.25, stratify=df['study_program'], shuffle=True, random_state=42, train_size=0.75)\n",
    "X_train.shape, X_test.shape, y_train.shape, y_test.shape"
   ]
  },
  {
   "cell_type": "code",
   "execution_count": 8,
   "metadata": {},
   "outputs": [
    {
     "data": {
      "image/png": "[encoded data removed]",
      "text/plain": [
       "<Figure size 1000x500 with 1 Axes>"
      ]
     },
     "metadata": {},
     "output_type": "display_data"
    }
   ],
   "source": [
    "plt.figure(figsize=(10, 5))\n",
    "plt.bar([\"X train\", \"y train\", \"X test\", \"y test\"], [len(X_train), len(y_train), len(X_test), len(y_test)])\n",
    "plt.title(\"Train Test Data (75 : 25)\")\n",
    "plt.ylabel(\"Data\")\n",
    "plt.show()"
   ]
  },
  {
   "cell_type": "markdown",
   "metadata": {},
   "source": [
    "### Oversampling on data train (Imbalance Data Handling)"
   ]
  },
  {
   "cell_type": "code",
   "execution_count": 9,
   "metadata": {},
   "outputs": [],
   "source": [
    "ros = RandomOverSampler()\n",
    "X_train, y_train = ros.fit_resample(X_train.reshape(-1, 1), y_train.astype('int'))"
   ]
  },
  {
   "cell_type": "code",
   "execution_count": 10,
   "metadata": {},
   "outputs": [
    {
     "data": {
      "text/plain": [
       "((18180,), (2556,), (18180,), (2556,))"
      ]
     },
     "execution_count": 10,
     "metadata": {},
     "output_type": "execute_result"
    }
   ],
   "source": [
    "# return the X_train shape\n",
    "X_train = X_train.squeeze()\n",
    "X_train.shape, X_test.shape, y_train.shape, y_test.shape"
   ]
  },
  {
   "cell_type": "code",
   "execution_count": 11,
   "metadata": {},
   "outputs": [
    {
     "data": {
      "image/png": "[encoded data removed]",
      "text/plain": [
       "<Figure size 1000x500 with 1 Axes>"
      ]
     },
     "metadata": {},
     "output_type": "display_data"
    }
   ],
   "source": [
    "plt.figure(figsize=(10, 5))\n",
    "plt.bar(list(df.study_program.value_counts().keys()), pd.Series(y_train).value_counts().values)\n",
    "plt.title(\"Data Train After Oversampling\")\n",
    "plt.xlabel(\"class\")\n",
    "plt.ylabel(\"abstract\")\n",
    "plt.show()"
   ]
  },
  {
   "cell_type": "markdown",
   "metadata": {},
   "source": [
    "### Clean Abstract Text\n",
    "Note: **either X_train or X_test need to be cleaned**"
   ]
  },
  {
   "cell_type": "code",
   "execution_count": 12,
   "metadata": {},
   "outputs": [],
   "source": [
    "# create function for perform cleaning each text\n",
    "def text_cleaning(text):\n",
    "        result = text.lower() # apply lowercas\n",
    "        result = result.replace('-', ' ') # get rid of punctuations\n",
    "        result = result.replace('+', ' ')\n",
    "        result = result.replace('..', ' ')\n",
    "        result = result.replace('.', ' ')\n",
    "        result = result.replace(',', ' ')\n",
    "        result = result.replace('\\n', ' ') # get rid of new line\n",
    "        result = re.findall('[a-z\\s]', result, flags=re.UNICODE) # only use text character (a-z) and space\n",
    "        result = \"\".join(result)\n",
    "        final = \" \".join(result.split())\n",
    "        \n",
    "        return final    # clean text"
   ]
  },
  {
   "cell_type": "code",
   "execution_count": 13,
   "metadata": {},
   "outputs": [],
   "source": [
    "clean_text_fn = np.vectorize(text_cleaning)\n",
    "X_train = clean_text_fn(X_train)\n",
    "X_test = clean_text_fn(X_test)"
   ]
  },
  {
   "cell_type": "code",
   "execution_count": 14,
   "metadata": {},
   "outputs": [
    {
     "name": "stdout",
     "output_type": "stream",
     "text": [
      "X_train shape: (18180,)\n",
      "X_test shape: (2556,)\n"
     ]
    }
   ],
   "source": [
    "print(f\"X_train shape: {X_train.shape}\")\n",
    "print(f\"X_test shape: {X_test.shape}\")"
   ]
  },
  {
   "cell_type": "code",
   "execution_count": 15,
   "metadata": {},
   "outputs": [
    {
     "name": "stdout",
     "output_type": "stream",
     "text": [
      "Sample result: the illuminator artwork school adalah institusi underground pertama di indonesia yang akan memberikan kursus membuat artwork mereka mengonsep metode street college dimana materi pelajaran diberikan secara learning by doing dengan metode ini siswa dituntut belajar dan bekerja effektif dengan cara yang kreatif sehingga bisa menjadi seorang artworker yang mampu menghasilkan karya yang gemilang selain itu siswa juga akan dijadikan seorang artworker yang imaginatif berwawasan luas dan siap bersaing\n"
     ]
    }
   ],
   "source": [
    "print(f\"Sample result: {X_train[0]}\")"
   ]
  },
  {
   "cell_type": "markdown",
   "metadata": {},
   "source": [
    "### Removing Stopwords"
   ]
  },
  {
   "cell_type": "code",
   "execution_count": 16,
   "metadata": {},
   "outputs": [],
   "source": [
    "stopword = StopWord()\n",
    "def remove_stopwords(text):\n",
    "    return stopword.remove_stopword(text=text)"
   ]
  },
  {
   "cell_type": "code",
   "execution_count": 17,
   "metadata": {},
   "outputs": [],
   "source": [
    "sw_fn = np.vectorize(remove_stopwords)\n",
    "X_train = sw_fn(X_train)\n",
    "X_test = sw_fn(X_test)"
   ]
  },
  {
   "cell_type": "code",
   "execution_count": 18,
   "metadata": {},
   "outputs": [
    {
     "name": "stdout",
     "output_type": "stream",
     "text": [
      "X_train shape: (18180,)\n",
      "X_test shape: (2556,)\n",
      "Sample result: the illuminator artwork school institusi underground indonesia kursus artwork mengonsep metode street college materi pelajaran learning by doing metode siswa dituntut belajar effektif kreatif artworker menghasilkan karya gemilang siswa dijadikan artworker imaginatif berwawasan luas bersaing\n"
     ]
    }
   ],
   "source": [
    "print(f\"X_train shape: {X_train.shape}\")\n",
    "print(f\"X_test shape: {X_test.shape}\")\n",
    "print(f\"Sample result: {X_train[0]}\")"
   ]
  },
  {
   "cell_type": "markdown",
   "metadata": {},
   "source": [
    "### Lematization"
   ]
  },
  {
   "cell_type": "code",
   "execution_count": 19,
   "metadata": {},
   "outputs": [
    {
     "data": {
      "text/plain": [
       "((18180,), (2556,))"
      ]
     },
     "execution_count": 19,
     "metadata": {},
     "output_type": "execute_result"
    }
   ],
   "source": [
    "X_train.shape, X_test.shape"
   ]
  },
  {
   "cell_type": "code",
   "execution_count": 20,
   "metadata": {},
   "outputs": [
    {
     "name": "stderr",
     "output_type": "stream",
     "text": [
      "X_train: 100%|██████████| 18180/18180 [00:02<00:00, 6241.25it/s]\n",
      "X_test: 100%|██████████| 2556/2556 [00:00<00:00, 6214.36it/s]\n"
     ]
    }
   ],
   "source": [
    "X_train_lemmatized = []\n",
    "X_test_lemmatized = []\n",
    "lemmatizer = Lemmatizer()\n",
    "\n",
    "for text_train in tqdm(X_train, desc=\"X_train\", total=X_train.size):\n",
    "    X_train_lemmatized.append(lemmatizer.lemmatize(text_train))\n",
    "\n",
    "for text_test in tqdm(X_test, desc=\"X_test\", total=X_test.size):\n",
    "    X_test_lemmatized.append(lemmatizer.lemmatize(text_test))\n",
    "\n",
    "X_train = np.array(X_train_lemmatized)\n",
    "X_test = np.array(X_test_lemmatized)"
   ]
  },
  {
   "cell_type": "code",
   "execution_count": 21,
   "metadata": {},
   "outputs": [
    {
     "name": "stdout",
     "output_type": "stream",
     "text": [
      "X_train Shape: (18180,) | X_test Shape: (2556,)\n",
      "Sample X_train_lemmatized: the illuminator artwork school institusi underground indonesia kursus artwork konsep metode street college materi ajar learning by doing metode siswa tuntut ajar effektif kreatif artworker hasil karya gemilang siswa jadi artworker imaginatif wawas luas saing\n",
      "Sample X_test_lemmatized: teliti tuju pengaruh karakteristik kelola uang sekolah transparansi efektivitas kelola uang sekolah dasar unggul nasywa kabupaten bandung barat karakteristik pengelolan uang liput strategic planning strategic manajemen strategic thinking padu konsep transparansi liput pendayagunaan jalur komunikasi langsung langsung bijak informasi prosedur adu informasi public atur jamin hak publik informasi sekolah fasilitas database sarana informasi komunikasi hasil efektivitas kelola uang sekolah sesuai rencana anggar dapat belanja sekolah rapbs teliti data primer kumpul data kuesioner responden pandang relevan masalah identifikasi metode analisis data regresi linier sederhana hasil teliti tunjuk karakteristik kelola uang transparansi signifikan pengaruh efektivitas kelola uang sekolah dasar unggul nasywa kabupaten bandung barat\n"
     ]
    }
   ],
   "source": [
    "print(f\"X_train Shape: {X_train.shape} | X_test Shape: {X_test.shape}\")\n",
    "print(f\"Sample X_train_lemmatized: {X_train_lemmatized[0]}\")\n",
    "print(f\"Sample X_test_lemmatized: {X_test_lemmatized[0]}\")"
   ]
  },
  {
   "cell_type": "markdown",
   "metadata": {},
   "source": [
    "### Tokenization"
   ]
  },
  {
   "cell_type": "code",
   "execution_count": 22,
   "metadata": {},
   "outputs": [
    {
     "data": {
      "text/plain": [
       "((18180,), (2556,))"
      ]
     },
     "execution_count": 22,
     "metadata": {},
     "output_type": "execute_result"
    }
   ],
   "source": [
    "X_train.shape, X_test.shape"
   ]
  },
  {
   "cell_type": "code",
   "execution_count": 23,
   "metadata": {},
   "outputs": [
    {
     "name": "stderr",
     "output_type": "stream",
     "text": [
      "X_train: 100%|██████████| 18180/18180 [00:01<00:00, 14569.79it/s]\n",
      "X_train: 100%|██████████| 2556/2556 [00:00<00:00, 13481.28it/s]\n"
     ]
    }
   ],
   "source": [
    "X_train_tokenized = []\n",
    "X_test_tokenized = []\n",
    "\n",
    "for text_train in tqdm(X_train, desc=\"X_train\", total=len(X_train)):\n",
    "    X_train_tokenized.append(list(tokenize(text_train)))\n",
    "\n",
    "for text_test in tqdm(X_test, desc=\"X_train\", total=len(X_test)):\n",
    "    X_test_tokenized.append(list(tokenize(text_test)))\n",
    "\n",
    "X_train = X_train_tokenized\n",
    "X_test = X_test_tokenized"
   ]
  },
  {
   "cell_type": "code",
   "execution_count": 24,
   "metadata": {},
   "outputs": [
    {
     "name": "stdout",
     "output_type": "stream",
     "text": [
      "X_train_temp: 18180 | X_test_temp: 2556\n"
     ]
    }
   ],
   "source": [
    "print(f\"X_train_temp: {len(X_train_tokenized)} | X_test_temp: {len(X_test_tokenized)}\")"
   ]
  },
  {
   "cell_type": "markdown",
   "metadata": {},
   "source": [
    "### Vectorization (Transform)"
   ]
  },
  {
   "cell_type": "code",
   "execution_count": 25,
   "metadata": {},
   "outputs": [],
   "source": [
    "# define Word2Vec model\n",
    "w2v_model = Word2Vec.load('../core/w2v_model/w2v_model.w2v')"
   ]
  },
  {
   "cell_type": "code",
   "execution_count": 26,
   "metadata": {},
   "outputs": [],
   "source": [
    "X_train_vectorized = []\n",
    "X_test_vectorized = []\n",
    "\n",
    "# X_train\n",
    "for train_tokens in X_train:\n",
    "    tokens_vector = []\n",
    "    for token in train_tokens:\n",
    "        if token in w2v_model.wv:\n",
    "            tokens_vector.append(w2v_model.wv.get_vector(token))\n",
    "    X_train_vectorized.append(tokens_vector)\n",
    "\n",
    "# X_test\n",
    "for test_tokens in X_test:\n",
    "    tokens_vector = []\n",
    "    for token in test_tokens:\n",
    "        if token in w2v_model.wv:\n",
    "            tokens_vector.append(w2v_model.wv.get_vector(token))\n",
    "    X_test_vectorized.append(tokens_vector)\n",
    "\n",
    "X_train = X_train_vectorized\n",
    "X_test = X_test_vectorized"
   ]
  },
  {
   "cell_type": "code",
   "execution_count": 27,
   "metadata": {},
   "outputs": [
    {
     "data": {
      "text/plain": [
       "128"
      ]
     },
     "execution_count": 27,
     "metadata": {},
     "output_type": "execute_result"
    }
   ],
   "source": [
    "len(X_train[0][0])"
   ]
  },
  {
   "cell_type": "markdown",
   "metadata": {},
   "source": [
    "### Padding"
   ]
  },
  {
   "cell_type": "code",
   "execution_count": 28,
   "metadata": {},
   "outputs": [
    {
     "name": "stderr",
     "output_type": "stream",
     "text": [
      "X_train:   0%|          | 0/18180 [00:00<?, ?it/s]/var/folders/px/q40ddk213vb6_1wwm1rtd27h0000gp/T/ipykernel_58987/2895611816.py:5: UserWarning: Creating a tensor from a list of numpy.ndarrays is extremely slow. Please consider converting the list to a single numpy.ndarray with numpy.array() before converting to a tensor. (Triggered internally at  /Users/runner/miniforge3/conda-bld/pytorch-recipe_1664817727684/work/torch/csrc/utils/tensor_new.cpp:204.)\n",
      "  tokens = torch.Tensor(tokens)\n",
      "X_train: 100%|██████████| 18180/18180 [00:12<00:00, 1453.27it/s]\n",
      "X_test: 100%|██████████| 2556/2556 [00:02<00:00, 1254.33it/s]\n"
     ]
    }
   ],
   "source": [
    "X_train_padded = []\n",
    "X_test_padded = []\n",
    "\n",
    "for tokens in tqdm(X_train, desc=\"X_train\", total=len(X_train)):\n",
    "    tokens = torch.Tensor(tokens)\n",
    "    if len(tokens) > 100:\n",
    "        tokens = tokens[:100]\n",
    "    elif len(tokens) < 100:\n",
    "        padd_needed = 100 - len(tokens)\n",
    "        tokens = F.pad(tokens, (0, 0, 0, padd_needed), mode='constant', value=0)\n",
    "    # change to np.array()\n",
    "    tokens = np.array(tokens)\n",
    "    X_train_padded.append(tokens)\n",
    "\n",
    "for tokens in tqdm(X_test, desc=\"X_test\", total=len(X_test)):\n",
    "    tokens = torch.Tensor(tokens)\n",
    "    if len(tokens) > 100:\n",
    "        tokens = tokens[:100]\n",
    "    elif len(tokens) < 100:\n",
    "        padd_needed = 100 - len(tokens)\n",
    "        tokens = F.pad(tokens, (0, 0, 0, padd_needed), mode='constant', value=0)\n",
    "    # change to np.array()\n",
    "    tokens = np.array(tokens)\n",
    "    X_test_padded.append(tokens)\n",
    "\n",
    "X_train = np.array(X_train_padded)\n",
    "X_test = np.array(X_test_padded)\n"
   ]
  },
  {
   "cell_type": "code",
   "execution_count": 29,
   "metadata": {},
   "outputs": [
    {
     "data": {
      "text/plain": [
       "((18180, 100, 128), (2556, 100, 128))"
      ]
     },
     "execution_count": 29,
     "metadata": {},
     "output_type": "execute_result"
    }
   ],
   "source": [
    "X_train.shape, X_test.shape"
   ]
  },
  {
   "cell_type": "markdown",
   "metadata": {},
   "source": [
    "# Setup custom Dataset class"
   ]
  },
  {
   "cell_type": "code",
   "execution_count": 99,
   "metadata": {},
   "outputs": [],
   "source": [
    "class TextDataset(Dataset):\n",
    "    def __init__(self, texts, labels) -> None:\n",
    "        super().__init__()\n",
    "        self.texts = texts\n",
    "        self.labels = labels\n",
    "\n",
    "    def __len__(self):\n",
    "        return len(self.texts)\n",
    "    \n",
    "    def __getitem__(self, index):\n",
    "        return self.texts[index], self.labels[index]"
   ]
  },
  {
   "cell_type": "code",
   "execution_count": 109,
   "metadata": {},
   "outputs": [],
   "source": [
    "train_set = TextDataset(X_train, y_train)\n",
    "test_set = TextDataset(X_test, y_test)\n",
    "\n",
    "train_loader = DataLoader(train_set, batch_size=64, shuffle=True)\n",
    "test_loader = DataLoader(test_set, batch_size=64)"
   ]
  },
  {
   "cell_type": "markdown",
   "metadata": {},
   "source": [
    "# Modeling Setup"
   ]
  },
  {
   "cell_type": "markdown",
   "metadata": {},
   "source": [
    "### Define nn.Module custom class"
   ]
  },
  {
   "cell_type": "code",
   "execution_count": 110,
   "metadata": {},
   "outputs": [],
   "source": [
    "class LSTMClassifier(nn.Module):\n",
    "    def __init__(self) -> None:\n",
    "        super(LSTMClassifier, self).__init__()\n",
    "        self.lstm = nn.LSTM(input_size=128, hidden_size=128, num_layers=2, batch_first=True)\n",
    "\n",
    "        self.fc = nn.Sequential(\n",
    "            nn.Linear(in_features=128, out_features=64),\n",
    "            nn.ReLU(),\n",
    "            nn.Dropout(0.2),\n",
    "\n",
    "            nn.Linear(in_features=64, out_features=32),\n",
    "            nn.ReLU(),\n",
    "            nn.Dropout(0.2),\n",
    "\n",
    "            nn.Linear(in_features=32, out_features=5),\n",
    "            nn.LogSoftmax(dim=1)\n",
    "        )\n",
    "\n",
    "    def forward(self, x):\n",
    "        # initiate hidden state and cell state\n",
    "        # hidden state (h0) and cell state initial (c0) = (number_layer = 2, batch_size (x.size) = 64, hidden_size = 128)\n",
    "        h0 = torch.zeros(2, len(x), 128)\n",
    "        c0 = torch.zeros(2, len(x), 128)\n",
    "\n",
    "        # forward to lstm\n",
    "        output, (hn, cn) = self.lstm(x, (h0, c0))\n",
    "\n",
    "        # flatten\n",
    "        output = output[:, -1, :]\n",
    "\n",
    "        # forward to fc (fully connected)\n",
    "        output = self.fc(output)\n",
    "\n",
    "        return output"
   ]
  },
  {
   "cell_type": "markdown",
   "metadata": {},
   "source": [
    "### define model, criterion, optimizer, callback"
   ]
  },
  {
   "cell_type": "code",
   "execution_count": 111,
   "metadata": {},
   "outputs": [],
   "source": [
    "model = LSTMClassifier()\n",
    "crietrion = nn.CrossEntropyLoss()\n",
    "optimizer = torch.optim.AdamW(params=model.parameters(), lr=0.0001)\n",
    "callback = Callback(model = model, outdir='log')"
   ]
  },
  {
   "cell_type": "markdown",
   "metadata": {},
   "source": [
    "# Modeling"
   ]
  },
  {
   "cell_type": "code",
   "execution_count": 112,
   "metadata": {},
   "outputs": [
    {
     "name": "stderr",
     "output_type": "stream",
     "text": [
      "Train: 100%|██████████| 285/285 [01:39<00:00,  2.85it/s]\n"
     ]
    },
    {
     "name": "stdout",
     "output_type": "stream",
     "text": [
      "cost_train per epoch: 1.351164600348184\n"
     ]
    },
    {
     "name": "stderr",
     "output_type": "stream",
     "text": [
      "Test: 100%|██████████| 40/40 [00:05<00:00,  6.99it/s]"
     ]
    },
    {
     "name": "stdout",
     "output_type": "stream",
     "text": [
      "cost_test per epoch 0.6850278945596006\n"
     ]
    },
    {
     "name": "stderr",
     "output_type": "stream",
     "text": [
      "\n"
     ]
    }
   ],
   "source": [
    "while True:\n",
    "    # Training Loop\n",
    "    model.train()\n",
    "    train_cost = 0\n",
    "    for X, y in tqdm(train_loader, desc=\"Train\"):\n",
    "        # forward propagation\n",
    "        output = model(X)\n",
    "\n",
    "        # calculate loss\n",
    "        loss = crietrion(output, y)\n",
    "\n",
    "        # back propagation\n",
    "        loss.backward()\n",
    "        optimizer.step()\n",
    "        optimizer.zero_grad()\n",
    "\n",
    "        train_cost += loss.item() * X.shape[0]\n",
    "\n",
    "    train_cost = train_cost / len(train_set)\n",
    "\n",
    "    # Test Loop\n",
    "    with torch.no_grad():\n",
    "        model.eval()\n",
    "        test_cost = 0\n",
    "\n",
    "        for X, y in tqdm(test_loader, desc=\"Test\"):\n",
    "            # forward propagation\n",
    "            output = model(X)\n",
    "\n",
    "            # calculation loss\n",
    "            loss = crietrion(output, y)\n",
    "            test_cost += loss.item() * X.shape[0]\n",
    "\n",
    "        test_cost = test_cost / len(test_set)\n",
    "    \n",
    "    # Callback\n",
    "        # logging\n",
    "    callback.log(train_cost=train_cost, test_cost=test_cost)\n",
    "        # checkpoint\n",
    "    callback.save_checkpoint()\n",
    "        # Runtime Plotting\n",
    "    callback.cost_runtime_plotting()\n",
    "        # Early Stopping\n",
    "    stoper = callback.early_stopping(model=model, monitor=\"test_cost\")\n",
    "    if stoper:\n",
    "        callback.plot_cost()\n",
    "        break"
   ]
  },
  {
   "cell_type": "code",
   "execution_count": 98,
   "metadata": {},
   "outputs": [],
   "source": [
    "# model.train()\n",
    "# cost = 0\n",
    "\n",
    "# X, y = next(iter(train_loader))\n",
    "# # forward propagation\n",
    "# output = model(X)\n",
    "# # calculate loss\n",
    "# loss = crietrion(output, y)\n",
    "# # back propagation\n",
    "# loss.backward()\n",
    "# optimizer.step()\n",
    "# optimizer.zero_grad()\n",
    "# cost += loss.item() * X.shape[0]\n",
    "# print(f\"Train cost: {cost}\")"
   ]
  },
  {
   "cell_type": "code",
   "execution_count": null,
   "metadata": {},
   "outputs": [],
   "source": []
  }
 ],
 "metadata": {
  "kernelspec": {
   "display_name": "ta_env",
   "language": "python",
   "name": "python3"
  },
  "language_info": {
   "codemirror_mode": {
    "name": "ipython",
    "version": 3
   },
   "file_extension": ".py",
   "mimetype": "text/x-python",
   "name": "python",
   "nbconvert_exporter": "python",
   "pygments_lexer": "ipython3",
   "version": "3.9.10"
  }
 },
 "nbformat": 4,
 "nbformat_minor": 2
}
